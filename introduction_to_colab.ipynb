{
  "nbformat": 4,
  "nbformat_minor": 0,
  "metadata": {
    "colab": {
      "name": "introduction to colab.ipynb",
      "provenance": [],
      "include_colab_link": true
    },
    "kernelspec": {
      "name": "python3",
      "display_name": "Python 3"
    },
    "accelerator": "GPU"
  },
  "cells": [
    {
      "cell_type": "markdown",
      "metadata": {
        "id": "view-in-github",
        "colab_type": "text"
      },
      "source": [
        "<a href=\"https://colab.research.google.com/github/Tongjai-Yampaka/GPU-Programming/blob/master/introduction_to_colab.ipynb\" target=\"_parent\"><img src=\"https://colab.research.google.com/assets/colab-badge.svg\" alt=\"Open In Colab\"/></a>"
      ]
    },
    {
      "cell_type": "code",
      "metadata": {
        "id": "l3sCGa590wLa",
        "colab_type": "code",
        "outputId": "6881657a-7d7c-4870-9ecf-b853fcc144b1",
        "colab": {
          "base_uri": "https://localhost:8080/",
          "height": 306
        }
      },
      "source": [
        "!nvidia-smi"
      ],
      "execution_count": 0,
      "outputs": [
        {
          "output_type": "stream",
          "text": [
            "Sun Nov 10 10:23:34 2019       \n",
            "+-----------------------------------------------------------------------------+\n",
            "| NVIDIA-SMI 430.50       Driver Version: 418.67       CUDA Version: 10.1     |\n",
            "|-------------------------------+----------------------+----------------------+\n",
            "| GPU  Name        Persistence-M| Bus-Id        Disp.A | Volatile Uncorr. ECC |\n",
            "| Fan  Temp  Perf  Pwr:Usage/Cap|         Memory-Usage | GPU-Util  Compute M. |\n",
            "|===============================+======================+======================|\n",
            "|   0  Tesla K80           Off  | 00000000:00:04.0 Off |                    0 |\n",
            "| N/A   33C    P8    26W / 149W |      0MiB / 11441MiB |      0%      Default |\n",
            "+-------------------------------+----------------------+----------------------+\n",
            "                                                                               \n",
            "+-----------------------------------------------------------------------------+\n",
            "| Processes:                                                       GPU Memory |\n",
            "|  GPU       PID   Type   Process name                             Usage      |\n",
            "|=============================================================================|\n",
            "|  No running processes found                                                 |\n",
            "+-----------------------------------------------------------------------------+\n"
          ],
          "name": "stdout"
        }
      ]
    },
    {
      "cell_type": "markdown",
      "metadata": {
        "id": "bQCexXWyN0nZ",
        "colab_type": "text"
      },
      "source": [
        "4992 NVIDIA CUDA cores with a dual-GPU design\n",
        "\n",
        "Up to 2.91 teraflops double-precision performance with NVIDIA GPU Boost\n",
        "\n",
        "Up to 8.73 teraflops single-precision performance with NVIDIA GPU Boost\n",
        "\n",
        "24 GB of GDDR5 memory\n",
        "\n",
        "480 GB/s aggregate memory bandwidth\n",
        "\n",
        "ECC protection for increased reliability\n",
        "\n",
        "Server-optimised to deliver the best throughput in the data center"
      ]
    },
    {
      "cell_type": "code",
      "metadata": {
        "id": "2Bzn8CC72L6O",
        "colab_type": "code",
        "outputId": "924cc56d-5f80-478e-8b69-4108b2f53f69",
        "colab": {
          "base_uri": "https://localhost:8080/",
          "height": 85
        }
      },
      "source": [
        "!nvcc --version"
      ],
      "execution_count": 0,
      "outputs": [
        {
          "output_type": "stream",
          "text": [
            "nvcc: NVIDIA (R) Cuda compiler driver\n",
            "Copyright (c) 2005-2018 NVIDIA Corporation\n",
            "Built on Sat_Aug_25_21:08:01_CDT_2018\n",
            "Cuda compilation tools, release 10.0, V10.0.130\n"
          ],
          "name": "stdout"
        }
      ]
    },
    {
      "cell_type": "code",
      "metadata": {
        "id": "EOTGZZWS2SHc",
        "colab_type": "code",
        "outputId": "1612abc4-1e68-482d-b972-875913249992",
        "colab": {
          "base_uri": "https://localhost:8080/",
          "height": 187
        }
      },
      "source": [
        "!pip install git+git://github.com/andreinechaev/nvcc4jupyter.git"
      ],
      "execution_count": 0,
      "outputs": [
        {
          "output_type": "stream",
          "text": [
            "Collecting git+git://github.com/andreinechaev/nvcc4jupyter.git\n",
            "  Cloning git://github.com/andreinechaev/nvcc4jupyter.git to /tmp/pip-req-build-l1i7r39j\n",
            "  Running command git clone -q git://github.com/andreinechaev/nvcc4jupyter.git /tmp/pip-req-build-l1i7r39j\n",
            "Building wheels for collected packages: NVCCPlugin\n",
            "  Building wheel for NVCCPlugin (setup.py) ... \u001b[?25l\u001b[?25hdone\n",
            "  Created wheel for NVCCPlugin: filename=NVCCPlugin-0.0.2-cp36-none-any.whl size=4307 sha256=600db54b1b27fb4465386f295e5bacf3e843601d66c0703e0dc6780bcc863e03\n",
            "  Stored in directory: /tmp/pip-ephem-wheel-cache-xwqfzlhb/wheels/10/c2/05/ca241da37bff77d60d31a9174f988109c61ba989e4d4650516\n",
            "Successfully built NVCCPlugin\n",
            "Installing collected packages: NVCCPlugin\n",
            "Successfully installed NVCCPlugin-0.0.2\n"
          ],
          "name": "stdout"
        }
      ]
    },
    {
      "cell_type": "code",
      "metadata": {
        "id": "ViRSFo6q2eAS",
        "colab_type": "code",
        "outputId": "960967fe-4f8c-4e67-867f-5d862eff27f3",
        "colab": {
          "base_uri": "https://localhost:8080/",
          "height": 51
        }
      },
      "source": [
        "%load_ext nvcc_plugin"
      ],
      "execution_count": 0,
      "outputs": [
        {
          "output_type": "stream",
          "text": [
            "created output directory at /content/src\n",
            "Out bin /content/result.out\n"
          ],
          "name": "stdout"
        }
      ]
    },
    {
      "cell_type": "code",
      "metadata": {
        "id": "CpgbDlJi4x_e",
        "colab_type": "code",
        "outputId": "b1efc809-ee02-4e90-e13a-966cf0ed9221",
        "colab": {
          "base_uri": "https://localhost:8080/",
          "height": 51
        }
      },
      "source": [
        "%%cu\n",
        "#include \"cuda_runtime.h\"\n",
        "#include \"device_launch_parameters.h\"\n",
        "#include <stdio.h>\n",
        "\n",
        "__global__ void addKernel(int* c, const int* a, const int* b, int size) {\n",
        "    int i = blockIdx.x * blockDim.x + threadIdx.x;\n",
        "    if (i < size) {\n",
        "        c[i] = a[i] + b[i];\n",
        "    }\n",
        "}\n",
        "\n",
        "// Helper function for using CUDA to add vectors in parallel.\n",
        "void addWithCuda(int* c, const int* a, const int* b, int size) {\n",
        "    int* dev_a = nullptr;\n",
        "    int* dev_b = nullptr;\n",
        "    int* dev_c = nullptr;\n",
        "\n",
        "    // Allocate GPU buffers for three vectors (two input, one output)\n",
        "    cudaMalloc((void**)&dev_c, size * sizeof(int));\n",
        "    cudaMalloc((void**)&dev_a, size * sizeof(int));\n",
        "    cudaMalloc((void**)&dev_b, size * sizeof(int));\n",
        "\n",
        "    // Copy input vectors from host memory to GPU buffers.\n",
        "    cudaMemcpy(dev_a, a, size * sizeof(int), cudaMemcpyHostToDevice);\n",
        "    cudaMemcpy(dev_b, b, size * sizeof(int), cudaMemcpyHostToDevice);\n",
        "\n",
        "    // Launch a kernel on the GPU with one thread for each element.\n",
        "    // 2 is number of computational blocks and (size + 1) / 2 is a number of threads in a block\n",
        "    addKernel<<<1, 5>>>(dev_c, dev_a, dev_b, size);\n",
        "    \n",
        "    // cudaDeviceSynchronize waits for the kernel to finish, and returns\n",
        "    // any errors encountered during the launch.\n",
        "    cudaDeviceSynchronize();\n",
        "\n",
        "    // Copy output vector from GPU buffer to host memory.\n",
        "    cudaMemcpy(c, dev_c, size * sizeof(int), cudaMemcpyDeviceToHost);\n",
        "\n",
        "    cudaFree(dev_c);\n",
        "    cudaFree(dev_a);\n",
        "    cudaFree(dev_b);\n",
        "}\n",
        "\n",
        "int main(int argc, char** argv) {\n",
        "    const int arraySize = 5;\n",
        "    const int a[arraySize] = {  1,  2,  3,  4,  5 };\n",
        "    const int b[arraySize] = { 10, 20, 30, 40, 50 };\n",
        "    int c[arraySize] = { 0 };\n",
        "\n",
        "    addWithCuda(c, a, b, arraySize);\n",
        "\n",
        "    printf(\"{1, 2, 3, 4, 5} + {10, 20, 30, 40, 50} = {%d, %d, %d, %d, %d}\\n\", c[0], c[1], c[2], c[3], c[4]);\n",
        "\n",
        "    cudaDeviceReset();\n",
        "\n",
        "    return 0;\n",
        "}"
      ],
      "execution_count": 0,
      "outputs": [
        {
          "output_type": "stream",
          "text": [
            "{1, 2, 3, 4, 5} + {10, 20, 30, 40, 50} = {11, 22, 33, 44, 55}\n",
            "\n"
          ],
          "name": "stdout"
        }
      ]
    },
    {
      "cell_type": "markdown",
      "metadata": {
        "id": "DUHh6J5GQPzz",
        "colab_type": "text"
      },
      "source": [
        "CUDA C Tutorial [Link](https://cuda-tutorial.readthedocs.io/en/latest/tutorials/tutorial01/)"
      ]
    },
    {
      "cell_type": "markdown",
      "metadata": {
        "id": "jiJtHnhZ31OS",
        "colab_type": "text"
      },
      "source": [
        "Next>> PyCuda [Link](https://github.com/Tongjai-Yampaka/GPU-Programming/blob/master/pycuda.ipynb)"
      ]
    }
  ]
}